{
 "cells": [
  {
   "cell_type": "code",
   "execution_count": 106,
   "metadata": {},
   "outputs": [
    {
     "name": "stdout",
     "output_type": "stream",
     "text": [
      "/home/patrick/anaconda3/envs/anonym/bin/jupyter\r\n"
     ]
    }
   ],
   "source": [
    "!which jupyter"
   ]
  },
  {
   "cell_type": "code",
   "execution_count": 107,
   "metadata": {},
   "outputs": [
    {
     "name": "stdout",
     "output_type": "stream",
     "text": [
      "Python 3.6.7 :: Anaconda, Inc.\r\n"
     ]
    }
   ],
   "source": [
    "!python -V"
   ]
  },
  {
   "cell_type": "code",
   "execution_count": 108,
   "metadata": {},
   "outputs": [],
   "source": [
    "import os\n",
    "import json\n",
    "from pathlib import Path\n",
    "from dotenv import load_dotenv\n",
    "\n",
    "import google.auth\n",
    "from google.oauth2 import service_account\n",
    "from google.cloud import dlp_v2\n",
    "from google.cloud.dlp_v2 import enums"
   ]
  },
  {
   "cell_type": "markdown",
   "metadata": {},
   "source": [
    "## Create a service account to authenticate\n",
    "https://cloud.google.com/docs/authentication/getting-started\n",
    "\n",
    "* Select or create a GCP project.\n",
    "* enable billing and DLP API\n",
    "* Generate the JSON file for authentication (`service_account_credentials.json`)\n"
   ]
  },
  {
   "cell_type": "markdown",
   "metadata": {},
   "source": [
    "### Get the required permissions\n",
    "https://cloud.google.com/dlp/docs/quickstart-json\n",
    "\n",
    "Inspect content requires the `serviceusage.services.use` permission for the project that's specified in parent. The `roles/editor`, `roles/owner`, and `roles.dlp.user` roles contain the required permission \n",
    "\n",
    "#### Programmatically\n",
    "\n",
    "1. To add a single binding to the project's Cloud IAM policy, type the following command. Replace project-id with your _**project ID**_.\n",
    "\n",
    "`gcloud projects add-iam-policy-binding project-id --member group:test@example.com --role roles/dlp.user`\n",
    "\n",
    "2. The command writes the updated policy to the console window:\n",
    "\n",
    "```\n",
    "bindings:\n",
    "- members:\n",
    "  - group:test@example.com\n",
    "    role: roles/dlp.user\n",
    " ```"
   ]
  },
  {
   "cell_type": "code",
   "execution_count": 93,
   "metadata": {},
   "outputs": [
    {
     "name": "stdout",
     "output_type": "stream",
     "text": [
      "/home/patrick/Documents/COMPUTAS/dev/pseudonymization_service_eHelse/service_account_credentials.json\n",
      "computas-pseudonymisation\n"
     ]
    }
   ],
   "source": [
    "# Store and read authentication credentials\n",
    "env_path = Path('.') / 'env_var'\n",
    "load_dotenv(dotenv_path=env_path, verbose=True)\n",
    "\n",
    "# where `env_var` contains your credentials:\n",
    "# REDIS_ADDRESS=localhost:6379\n",
    "# MEANING_OF_LIFE=42\n",
    "# MULTILINE_VAR=\"hello\\nworld\"\n",
    "# JSON_CREDENTIALS=\"/home/patrick/.../service_account_credentials.json\"\n",
    "\n",
    "PATH_JSON_CREDENTIALS = os.getenv(\"JSON_CREDENTIALS\")\n",
    "print(PATH_JSON_CREDENTIALS)\n",
    "json_credentials=open(PATH_JSON_CREDENTIALS).read()\n",
    "# print(json_data)\n",
    "data = json.loads(json_credentials)\n",
    "print(data[\"project_id\"])"
   ]
  },
  {
   "cell_type": "code",
   "execution_count": 95,
   "metadata": {},
   "outputs": [
    {
     "data": {
      "text/plain": [
       "<google.oauth2.service_account.Credentials at 0x7f28192a6ba8>"
      ]
     },
     "execution_count": 95,
     "metadata": {},
     "output_type": "execute_result"
    }
   ],
   "source": [
    "# Generate OAuth2 object for your service account from Services JSON file\n",
    "credentials = service_account.Credentials.from_service_account_file(PATH_JSON_CREDENTIALS)\n",
    "credentials"
   ]
  },
  {
   "cell_type": "code",
   "execution_count": 96,
   "metadata": {},
   "outputs": [],
   "source": [
    "# Build the service with your newly created credentials \n",
    "client = dlp_v2.DlpServiceClient(credentials=credentials)"
   ]
  },
  {
   "cell_type": "markdown",
   "metadata": {},
   "source": [
    "## Inspect a string for sensitive information"
   ]
  },
  {
   "cell_type": "code",
   "execution_count": 119,
   "metadata": {},
   "outputs": [
    {
     "name": "stdout",
     "output_type": "stream",
     "text": [
      "{'info_types': [{'name': 'EMAIL_ADDRESS'}]}\n",
      "[{'type': 'text/plain', 'value': 'My email is example@example.com.'}]\n",
      "result {\n",
      "  findings {\n",
      "    info_type {\n",
      "      name: \"EMAIL_ADDRESS\"\n",
      "    }\n",
      "    likelihood: LIKELY\n",
      "    location {\n",
      "      byte_range {\n",
      "        start: 12\n",
      "        end: 31\n",
      "      }\n",
      "      codepoint_range {\n",
      "        start: 12\n",
      "        end: 31\n",
      "      }\n",
      "    }\n",
      "    create_time {\n",
      "      seconds: 1542978932\n",
      "      nanos: 198000000\n",
      "    }\n",
      "  }\n",
      "}\n",
      "\n"
     ]
    }
   ],
   "source": [
    "# Data for DLP Inspection just for test, used Google Example\n",
    "name = 'EMAIL_ADDRESS'\n",
    "info_types_element = {'name': name}\n",
    "info_types = [info_types_element]\n",
    "inspect_config = {'info_types': info_types}\n",
    "print(inspect_config)\n",
    "\n",
    "type_ = 'text/plain'\n",
    "value = 'My email is example@example.com.'\n",
    "items_element = {'type': type_, 'value': value}\n",
    "items = [items_element]\n",
    "print(items)\n",
    "\n",
    "item = {'value': 'My email is example@example.com.'}\n",
    "parent = client.project_path(project_id)\n",
    "response = client.inspect_content(parent, inspect_config, item)\n",
    "print(response)"
   ]
  },
  {
   "cell_type": "code",
   "execution_count": 125,
   "metadata": {},
   "outputs": [
    {
     "ename": "TypeError",
     "evalue": "Parameter to MergeFrom() must be instance of same class: expected google.privacy.dlp.v2.ContentItem got list.",
     "output_type": "error",
     "traceback": [
      "\u001b[0;31m---------------------------------------------------------------------------\u001b[0m",
      "\u001b[0;31mTypeError\u001b[0m                                 Traceback (most recent call last)",
      "\u001b[0;32m<ipython-input-125-f65c423ef32d>\u001b[0m in \u001b[0;36m<module>\u001b[0;34m\u001b[0m\n\u001b[1;32m      5\u001b[0m \u001b[0mitems\u001b[0m \u001b[0;34m=\u001b[0m \u001b[0;34m[\u001b[0m\u001b[0mitems_element\u001b[0m\u001b[0;34m,\u001b[0m \u001b[0mitems_element\u001b[0m\u001b[0;34m]\u001b[0m\u001b[0;34m\u001b[0m\u001b[0;34m\u001b[0m\u001b[0m\n\u001b[1;32m      6\u001b[0m \u001b[0mparent\u001b[0m \u001b[0;34m=\u001b[0m \u001b[0mclient\u001b[0m\u001b[0;34m.\u001b[0m\u001b[0mproject_path\u001b[0m\u001b[0;34m(\u001b[0m\u001b[0mproject_id\u001b[0m\u001b[0;34m)\u001b[0m\u001b[0;34m\u001b[0m\u001b[0;34m\u001b[0m\u001b[0m\n\u001b[0;32m----> 7\u001b[0;31m \u001b[0mresponse\u001b[0m \u001b[0;34m=\u001b[0m \u001b[0mclient\u001b[0m\u001b[0;34m.\u001b[0m\u001b[0minspect_content\u001b[0m\u001b[0;34m(\u001b[0m\u001b[0mparent\u001b[0m\u001b[0;34m,\u001b[0m \u001b[0minspect_config\u001b[0m\u001b[0;34m,\u001b[0m \u001b[0mitems\u001b[0m\u001b[0;34m)\u001b[0m\u001b[0;34m\u001b[0m\u001b[0;34m\u001b[0m\u001b[0m\n\u001b[0m\u001b[1;32m      8\u001b[0m \u001b[0mprint\u001b[0m\u001b[0;34m(\u001b[0m\u001b[0mresponse\u001b[0m\u001b[0;34m)\u001b[0m\u001b[0;34m\u001b[0m\u001b[0;34m\u001b[0m\u001b[0m\n",
      "\u001b[0;32m~/anaconda3/envs/anonym/lib/python3.6/site-packages/google/cloud/dlp_v2/gapic/dlp_service_client.py\u001b[0m in \u001b[0;36minspect_content\u001b[0;34m(self, parent, inspect_config, item, inspect_template_name, retry, timeout, metadata)\u001b[0m\n\u001b[1;32m    338\u001b[0m             \u001b[0minspect_config\u001b[0m\u001b[0;34m=\u001b[0m\u001b[0minspect_config\u001b[0m\u001b[0;34m,\u001b[0m\u001b[0;34m\u001b[0m\u001b[0;34m\u001b[0m\u001b[0m\n\u001b[1;32m    339\u001b[0m             \u001b[0mitem\u001b[0m\u001b[0;34m=\u001b[0m\u001b[0mitem\u001b[0m\u001b[0;34m,\u001b[0m\u001b[0;34m\u001b[0m\u001b[0;34m\u001b[0m\u001b[0m\n\u001b[0;32m--> 340\u001b[0;31m             \u001b[0minspect_template_name\u001b[0m\u001b[0;34m=\u001b[0m\u001b[0minspect_template_name\u001b[0m\u001b[0;34m,\u001b[0m\u001b[0;34m\u001b[0m\u001b[0;34m\u001b[0m\u001b[0m\n\u001b[0m\u001b[1;32m    341\u001b[0m         )\n\u001b[1;32m    342\u001b[0m         return self._inner_api_calls['inspect_content'](\n",
      "\u001b[0;31mTypeError\u001b[0m: Parameter to MergeFrom() must be instance of same class: expected google.privacy.dlp.v2.ContentItem got list."
     ]
    }
   ],
   "source": [
    "# If you want to inspect several items at once, you need to provide the data as Union[dict, ContentItem]\n",
    "type_ = 'text/plain'\n",
    "value = 'My email is example@example.com.'\n",
    "items_element = {'type': type_, 'value': value}\n",
    "items = [items_element, items_element]\n",
    "parent = client.project_path(project_id)\n",
    "response = client.inspect_content(parent, inspect_config, items)\n",
    "print(response)"
   ]
  },
  {
   "cell_type": "markdown",
   "metadata": {},
   "source": [
    "## Inspect a fields to infer their type and sensitivity"
   ]
  },
  {
   "cell_type": "markdown",
   "metadata": {},
   "source": [
    "Define your `infoType` detectors"
   ]
  },
  {
   "cell_type": "code",
   "execution_count": 104,
   "metadata": {},
   "outputs": [],
   "source": [
    "# client = dlp_v2.DlpServiceClient(credentials=credentials)\n",
    "min_likelihood = enums.Likelihood.POSSIBLE\n",
    "info_types = [{'name': 'FIRST_NAME'}, {'name': 'LAST_NAME'}]\n",
    "inspect_config = {\n",
    "    'info_types': info_types,\n",
    "    'min_likelihood': min_likelihood,\n",
    "}"
   ]
  },
  {
   "cell_type": "code",
   "execution_count": 105,
   "metadata": {},
   "outputs": [
    {
     "name": "stdout",
     "output_type": "stream",
     "text": [
      "result {\n",
      "  findings {\n",
      "    info_type {\n",
      "      name: \"FIRST_NAME\"\n",
      "    }\n",
      "    likelihood: LIKELY\n",
      "    location {\n",
      "      byte_range {\n",
      "        end: 6\n",
      "      }\n",
      "      codepoint_range {\n",
      "        end: 6\n",
      "      }\n",
      "    }\n",
      "    create_time {\n",
      "      seconds: 1542974273\n",
      "      nanos: 53000000\n",
      "    }\n",
      "  }\n",
      "  findings {\n",
      "    info_type {\n",
      "      name: \"LAST_NAME\"\n",
      "    }\n",
      "    likelihood: LIKELY\n",
      "    location {\n",
      "      byte_range {\n",
      "        start: 7\n",
      "        end: 12\n",
      "      }\n",
      "      codepoint_range {\n",
      "        start: 7\n",
      "        end: 12\n",
      "      }\n",
      "    }\n",
      "    create_time {\n",
      "      seconds: 1542974273\n",
      "      nanos: 53000000\n",
      "    }\n",
      "  }\n",
      "}\n",
      "\n"
     ]
    }
   ],
   "source": [
    "item = {'value': 'Robert Frost'}\n",
    "parent = client.project_path(project_id)\n",
    "response = client.inspect_content(parent, inspect_config, item)\n",
    "print(response)"
   ]
  },
  {
   "cell_type": "code",
   "execution_count": null,
   "metadata": {},
   "outputs": [],
   "source": []
  },
  {
   "cell_type": "markdown",
   "metadata": {},
   "source": [
    "## References\n",
    "\n",
    "### Documentation for the Google Cloud library:\n",
    "\n",
    "* https://media.readthedocs.org/pdf/google-cloud-python/latest/google-cloud-python.pdf\n",
    "* https://github.com/googleapis/google-cloud-python/blob/a9f5d17ae480757f8da07a77a2ffd665790fb5df/dlp/tests/system/gapic/v2/test_system_dlp_service_v2.py\n",
    "* https://cloud.google.com/dlp/docs/inspecting-text#dlp-inspect-text-python\n",
    "* https://cloud.google.com/dlp/docs/deidentify-sensitive-data"
   ]
  },
  {
   "cell_type": "code",
   "execution_count": null,
   "metadata": {},
   "outputs": [],
   "source": []
  }
 ],
 "metadata": {
  "kernelspec": {
   "display_name": "Python 3",
   "language": "python",
   "name": "python3"
  },
  "language_info": {
   "codemirror_mode": {
    "name": "ipython",
    "version": 3
   },
   "file_extension": ".py",
   "mimetype": "text/x-python",
   "name": "python",
   "nbconvert_exporter": "python",
   "pygments_lexer": "ipython3",
   "version": "3.6.7"
  }
 },
 "nbformat": 4,
 "nbformat_minor": 2
}
